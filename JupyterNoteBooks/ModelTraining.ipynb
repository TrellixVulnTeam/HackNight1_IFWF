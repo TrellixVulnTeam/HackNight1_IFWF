{
 "cells": [
  {
   "cell_type": "code",
   "execution_count": 1,
   "metadata": {},
   "outputs": [],
   "source": [
    "import pandas as pd\n",
    "from sklearn import preprocessing\n",
    "from datetime import datetime\n",
    "from sklearn.ensemble import RandomForestClassifier, AdaBoostClassifier, GradientBoostingClassifier"
   ]
  },
  {
   "cell_type": "code",
   "execution_count": 13,
   "metadata": {},
   "outputs": [],
   "source": [
    "import sklearn.model_selection\n",
    "from sklearn import svm"
   ]
  },
  {
   "cell_type": "code",
   "execution_count": 79,
   "metadata": {},
   "outputs": [],
   "source": [
    "from sklearn.externals import joblib"
   ]
  },
  {
   "cell_type": "code",
   "execution_count": 3,
   "metadata": {},
   "outputs": [],
   "source": [
    "from sklearn.model_selection import train_test_split"
   ]
  },
  {
   "cell_type": "code",
   "execution_count": 4,
   "metadata": {},
   "outputs": [
    {
     "name": "stdout",
     "output_type": "stream",
     "text": [
      "0.20.3\n"
     ]
    }
   ],
   "source": [
    "import sklearn\n",
    "print(sklearn.__version__)\n"
   ]
  },
  {
   "cell_type": "code",
   "execution_count": 5,
   "metadata": {},
   "outputs": [],
   "source": [
    "train=pd.read_csv(\"trainms.csv\")\n",
    "trainY=train['treatment']\n",
    "trainX=train.drop(['treatment'],axis=1)\n",
    "testX=pd.read_csv(\"testms.csv\")"
   ]
  },
  {
   "cell_type": "code",
   "execution_count": 6,
   "metadata": {},
   "outputs": [],
   "source": [
    "def replace_for(col,k1,k2):\n",
    "    trainX[col]=trainX[col].replace(k1,k2)"
   ]
  },
  {
   "cell_type": "code",
   "execution_count": 7,
   "metadata": {},
   "outputs": [],
   "source": [
    "male=['Male','male','m','maile','Cis Male','Mal','Male ','Man','msle','Mail','cis male','Make']\n",
    "replace_for('Gender',male,\"M\")"
   ]
  },
  {
   "cell_type": "code",
   "execution_count": 8,
   "metadata": {},
   "outputs": [],
   "source": [
    "female=['Female','female','Cis Female','Woman','F','f','Femake','woman','Female ','cis-female/femme','Female (cis)']\n",
    "replace_for('Gender',female,\"F\")"
   ]
  },
  {
   "cell_type": "code",
   "execution_count": 11,
   "metadata": {},
   "outputs": [],
   "source": [
    "other=list(trainX['Gender'].unique())\n",
    "other.remove('F')\n",
    "other.remove('M')\n",
    "replace_for('Gender',other,'O')"
   ]
  },
  {
   "cell_type": "code",
   "execution_count": 33,
   "metadata": {},
   "outputs": [],
   "source": [
    "from sklearn.metrics import accuracy_score\n"
   ]
  },
  {
   "cell_type": "code",
   "execution_count": 76,
   "metadata": {},
   "outputs": [],
   "source": [
    "def train_model(feature,labels,lis,classfy,test_features):\n",
    "    feature=feature[lis]\n",
    "    test_features=test_features[lis]\n",
    "    for i in lis:\n",
    "        feature=pd.concat([feature,pd.get_dummies(feature[i],prefix=i)],axis=1)\n",
    "        feature=feature.drop([i],axis=1)\n",
    "        test_features=pd.concat([test_features,pd.get_dummies(test_features[i],prefix=i)],axis=1)\n",
    "        test_features=test_features.drop([i],axis=1)\n",
    "        \n",
    "    X_train, X_test, y_train, y_test = train_test_split(feature, labels, test_size=0.35, random_state=42)\n",
    "    y_pred=classfy.fit(X_train,y_train).predict(X_test)\n",
    "    test_output=classfy.predict(test_features)\n",
    "    test_output=pd.DataFrame({\"treatment\":test_output})\n",
    "    filename = 'finalized_model.sav'\n",
    "    joblib.dump(classfy, filename)\n",
    "    return accuracy_score(y_test,y_pred),test_output\n",
    "    \n",
    "    "
   ]
  },
  {
   "cell_type": "code",
   "execution_count": 81,
   "metadata": {},
   "outputs": [],
   "source": [
    "trainX=pd.read_csv(\"trainms.csv\")\n",
    "trainY=train['treatment']\n",
    "trainX=trainX.drop(['treatment'],axis=1)\n",
    "lis=['family_history','work_interfere',\"benefits\",\"mental_health_consequence\",\"care_options\",\"mental_health_interview\",\"obs_consequence\"]\n",
    "clf=[svm.SVC(gamma='scale'),RandomForestClassifier(), AdaBoostClassifier(), GradientBoostingClassifier()]\n",
    "testX=pd.read_csv(\"testms.csv\")"
   ]
  },
  {
   "cell_type": "code",
   "execution_count": 82,
   "metadata": {},
   "outputs": [],
   "source": [
    "for i in clf:\n",
    "    a,b=train_model(trainX,trainY,lis,i,testX)\n",
    "    print(a,b)"
   ]
  },
  {
   "cell_type": "code",
   "execution_count": 83,
   "metadata": {},
   "outputs": [
    {
     "data": {
      "text/plain": [
       "0.8457142857142858"
      ]
     },
     "execution_count": 83,
     "metadata": {},
     "output_type": "execute_result"
    }
   ],
   "source": []
  },
  {
   "cell_type": "code",
   "execution_count": 84,
   "metadata": {},
   "outputs": [],
   "source": [
    "b.to_csv(\"output31.csv\")"
   ]
  }
 ],
 "metadata": {
  "kernelspec": {
   "display_name": "Python 3",
   "language": "python",
   "name": "python3"
  },
  "language_info": {
   "codemirror_mode": {
    "name": "ipython",
    "version": 3
   },
   "file_extension": ".py",
   "mimetype": "text/x-python",
   "name": "python",
   "nbconvert_exporter": "python",
   "pygments_lexer": "ipython3",
   "version": "3.7.3"
  }
 },
 "nbformat": 4,
 "nbformat_minor": 2
}
